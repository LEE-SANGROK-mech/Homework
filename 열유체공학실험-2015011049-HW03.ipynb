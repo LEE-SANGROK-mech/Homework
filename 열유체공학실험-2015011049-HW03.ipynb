{
  "nbformat": 4,
  "nbformat_minor": 0,
  "metadata": {
    "colab": {
      "name": "Untitled1.ipynb",
      "provenance": [],
      "include_colab_link": true
    },
    "kernelspec": {
      "name": "python3",
      "display_name": "Python 3"
    }
  },
  "cells": [
    {
      "cell_type": "markdown",
      "metadata": {
        "id": "view-in-github",
        "colab_type": "text"
      },
      "source": [
        "<a href=\"https://colab.research.google.com/github/LEE-SANGROK-mech/Homework/blob/master/%EC%97%B4%EC%9C%A0%EC%B2%B4%EA%B3%B5%ED%95%99%EC%8B%A4%ED%97%98-2015011049-HW03.ipynb\" target=\"_parent\"><img src=\"https://colab.research.google.com/assets/colab-badge.svg\" alt=\"Open In Colab\"/></a>"
      ]
    },
    {
      "cell_type": "code",
      "metadata": {
        "id": "iRwYF-fOSi6Y",
        "colab_type": "code",
        "colab": {
          "base_uri": "https://localhost:8080/",
          "height": 71
        },
        "outputId": "475ed1dd-54af-4ee8-b557-b0d881638149"
      },
      "source": [
        "import numpy as np\n",
        "x=np.arange(1,10)\n",
        "print(\"원하는 구구단 숫자를 입력하시오.\")\n",
        "a=int(input())\n",
        "print(a*x)"
      ],
      "execution_count": 18,
      "outputs": [
        {
          "output_type": "stream",
          "text": [
            "원하는 구구단 숫자를 입력하시오.\n",
            "3\n",
            "[ 3  6  9 12 15 18 21 24 27]\n"
          ],
          "name": "stdout"
        }
      ]
    }
  ]
}